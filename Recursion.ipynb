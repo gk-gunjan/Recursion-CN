{
 "cells": [
  {
   "cell_type": "markdown",
   "metadata": {},
   "source": [
    "### Recursion Topics"
   ]
  },
  {
   "cell_type": "markdown",
   "metadata": {},
   "source": [
    "### Merge Sort"
   ]
  },
  {
   "cell_type": "code",
   "execution_count": 12,
   "metadata": {},
   "outputs": [
    {
     "name": "stdout",
     "output_type": "stream",
     "text": [
      "[1, 1, 2, 3, 4, 5, 7, 9, 10, 19]\n"
     ]
    }
   ],
   "source": [
    "def merge(a1,a2,arr):\n",
    "    i=0\n",
    "    j=0\n",
    "    k=0\n",
    "    while i<len(a1) and j<len(a2):\n",
    "        if (a1[i]<a2[j]):\n",
    "            arr[k]=a1[i]\n",
    "            i+=1\n",
    "            k+=1\n",
    "        else:\n",
    "            arr[k]=a2[j]\n",
    "            j+=1\n",
    "            k+=1\n",
    "            \n",
    "    while i<len(a1):\n",
    "        arr[k]=a1[i]\n",
    "        i+=1\n",
    "        k+=1\n",
    "    while j<len(a2):\n",
    "        arr[k]=a2[j]\n",
    "        j+=1\n",
    "        k+=1\n",
    "        \n",
    "def merge_sort(arr):\n",
    "    l=len(arr)\n",
    "    if l==0 or l==1:\n",
    "        return arr\n",
    "    mid=l//2\n",
    "    a1=arr[0:mid]\n",
    "    a2=arr[mid:]\n",
    "    \n",
    "    merge_sort(a1)\n",
    "    merge_sort(a2)\n",
    "    merge(a1,a2,arr)\n",
    "    \n",
    "\n",
    "arr=[1,2,3,4,7,1,5,9,19,10]\n",
    "MergeSort(arr)\n",
    "print(arr)"
   ]
  },
  {
   "cell_type": "markdown",
   "metadata": {},
   "source": [
    "#### Quick Sort"
   ]
  },
  {
   "cell_type": "code",
   "execution_count": 18,
   "metadata": {},
   "outputs": [],
   "source": [
    "def partition(arr,si,ei):\n",
    "    pivot=arr[si]\n",
    "    count=0\n",
    "    for i in range(si,ei+1):\n",
    "        if arr[i]<pivot:\n",
    "            count+=1\n",
    "        arr[si],arr[si+count]=arr[si+count],arr[si]\n",
    "    pivot_index=si+count\n",
    "    i=si\n",
    "    j=ei\n",
    "    while i<j:\n",
    "        if arr[i]<pivot:\n",
    "            i=i+1\n",
    "        elif arr[j]>=pivot:\n",
    "            j-=1\n",
    "        else:\n",
    "            arr[i],arr[j]=arr[j],arr[i]\n",
    "    return pivot_index\n",
    "        \n",
    "def Quick_sort(arr,si,ei):\n",
    "    if si>=ei:\n",
    "        return arr\n",
    "    pivot_index=partition(arr,si,ei)\n",
    "    Quick_sort(arr,si,pivot_index-1)\n",
    "    Quick_sort(arr,pivot_index+1,ei)"
   ]
  },
  {
   "cell_type": "code",
   "execution_count": 23,
   "metadata": {},
   "outputs": [
    {
     "name": "stdout",
     "output_type": "stream",
     "text": [
      "4\n",
      "0 9 7 3\n",
      "0 3 7 9\n"
     ]
    }
   ],
   "source": [
    "n=int(input())\n",
    "arr=[int(i) for i in input().strip().split(' ')]\n",
    "Quick_sort(arr,0,len(arr)-1)\n",
    "print(*arr)"
   ]
  },
  {
   "cell_type": "markdown",
   "metadata": {},
   "source": [
    "#### Tower of Hanoi"
   ]
  },
  {
   "cell_type": "code",
   "execution_count": 33,
   "metadata": {},
   "outputs": [
    {
     "name": "stdout",
     "output_type": "stream",
     "text": [
      "a  c\n",
      "a  b\n",
      "c  b\n",
      "a  c\n",
      "b  a\n",
      "b  c\n",
      "a  c\n"
     ]
    }
   ],
   "source": [
    "def Tower(n,source,helper,dest):\n",
    "    if n==1:\n",
    "        print(source,'',dest)\n",
    "        return\n",
    "    Tower(n-1,source,dest,helper)\n",
    "    print(source,'',dest)\n",
    "    Tower(n-1,helper,source,dest)\n",
    "n=3\n",
    "Tower(n,'a','b','c')\n",
    "    "
   ]
  },
  {
   "cell_type": "code",
   "execution_count": 34,
   "metadata": {},
   "outputs": [],
   "source": [
    "### getSum"
   ]
  },
  {
   "cell_type": "code",
   "execution_count": 48,
   "metadata": {},
   "outputs": [
    {
     "name": "stdout",
     "output_type": "stream",
     "text": [
      "1.93750000\n"
     ]
    }
   ],
   "source": [
    "def get_sum(n):\n",
    "    if n==0:\n",
    "        return 1\n",
    "    outout =get_sum(n-1)\n",
    "    return 1/(2**n)+outout\n",
    "n=4\n",
    "a=get_sum(n)\n",
    "print('%.8f'%a)"
   ]
  },
  {
   "cell_type": "code",
   "execution_count": 49,
   "metadata": {},
   "outputs": [],
   "source": [
    "### palindrome"
   ]
  },
  {
   "cell_type": "code",
   "execution_count": 53,
   "metadata": {},
   "outputs": [
    {
     "name": "stdout",
     "output_type": "stream",
     "text": [
      "false\n"
     ]
    }
   ],
   "source": [
    "def Check_pallindrome(s):\n",
    "    if len(s)<2:\n",
    "        return True\n",
    "    if s[0]==s[-1]:\n",
    "        return Check_pallindrome(s[1:-1])\n",
    "    return False\n",
    "s='abcbda'\n",
    "if Check_pallindrome(s):\n",
    "    print('true')\n",
    "else:\n",
    "    print('false')"
   ]
  },
  {
   "cell_type": "code",
   "execution_count": 54,
   "metadata": {},
   "outputs": [],
   "source": [
    "### sum of digit"
   ]
  },
  {
   "cell_type": "code",
   "execution_count": 56,
   "metadata": {},
   "outputs": [
    {
     "data": {
      "text/plain": [
       "15"
      ]
     },
     "execution_count": 56,
     "metadata": {},
     "output_type": "execute_result"
    }
   ],
   "source": [
    "def sumD(n):\n",
    "    if n<10:\n",
    "        return n\n",
    "    sum=0\n",
    "    num=n%10\n",
    "    sum+=num\n",
    "    return sum+sumD(n//10)\n",
    "sumD(12345)"
   ]
  },
  {
   "cell_type": "code",
   "execution_count": 57,
   "metadata": {},
   "outputs": [],
   "source": [
    "# multiplication"
   ]
  },
  {
   "cell_type": "code",
   "execution_count": 58,
   "metadata": {},
   "outputs": [],
   "source": [
    "def multi(m,n):\n",
    "    if n==0:\n",
    "        return 0\n",
    "    out=multi(m,n-1)\n",
    "    return m+out"
   ]
  },
  {
   "cell_type": "code",
   "execution_count": 61,
   "metadata": {},
   "outputs": [
    {
     "data": {
      "text/plain": [
       "0"
      ]
     },
     "execution_count": 61,
     "metadata": {},
     "output_type": "execute_result"
    }
   ],
   "source": [
    "multi(0,1)"
   ]
  },
  {
   "cell_type": "code",
   "execution_count": 62,
   "metadata": {},
   "outputs": [],
   "source": [
    "## count Zeros"
   ]
  },
  {
   "cell_type": "code",
   "execution_count": 65,
   "metadata": {},
   "outputs": [],
   "source": [
    "def count_z(n):\n",
    "    if n==0:\n",
    "        return 1\n",
    "    if n<10:\n",
    "        return 0\n",
    "    if n%10==0:\n",
    "        return 1+count_z(n//10)\n",
    "    else:\n",
    "        return count_z(n//10)"
   ]
  },
  {
   "cell_type": "code",
   "execution_count": 72,
   "metadata": {},
   "outputs": [
    {
     "data": {
      "text/plain": [
       "2"
      ]
     },
     "execution_count": 72,
     "metadata": {},
     "output_type": "execute_result"
    }
   ],
   "source": [
    "count_z(10204)"
   ]
  },
  {
   "cell_type": "code",
   "execution_count": null,
   "metadata": {},
   "outputs": [],
   "source": []
  }
 ],
 "metadata": {
  "kernelspec": {
   "display_name": "Python 3",
   "language": "python",
   "name": "python3"
  },
  "language_info": {
   "codemirror_mode": {
    "name": "ipython",
    "version": 3
   },
   "file_extension": ".py",
   "mimetype": "text/x-python",
   "name": "python",
   "nbconvert_exporter": "python",
   "pygments_lexer": "ipython3",
   "version": "3.8.5"
  }
 },
 "nbformat": 4,
 "nbformat_minor": 4
}
